{
 "cells": [
  {
   "cell_type": "markdown",
   "id": "a7ce487c-d316-4eec-ad13-3522974f6cdc",
   "metadata": {},
   "source": [
    "# 0. Khai báo các thư viện cần thiết"
   ]
  },
  {
   "cell_type": "code",
   "execution_count": 1,
   "id": "dede8e48-1005-4836-89ef-c05a1b980d40",
   "metadata": {},
   "outputs": [],
   "source": [
    "import pandas as pd\n",
    "import numpy as np"
   ]
  },
  {
   "cell_type": "markdown",
   "id": "3f1cf6f3-1246-47c2-a65a-aeb711337266",
   "metadata": {},
   "source": [
    "# 1. Dữ liệu tuổi của một nhóm người dùng"
   ]
  },
  {
   "cell_type": "code",
   "execution_count": 2,
   "id": "326ff193-4a55-4af2-8ad1-51f8de41d786",
   "metadata": {},
   "outputs": [],
   "source": [
    "ages = [20, 22, 25, 27, 21, 23, 37, 31, 61, 45, 41, 32]"
   ]
  },
  {
   "cell_type": "code",
   "execution_count": 3,
   "id": "8eb3360a-5df7-42e1-944d-4d700a0c67f8",
   "metadata": {},
   "outputs": [],
   "source": [
    "# Định nghĩa khoảng giá trị các nhóm\n",
    "bins = [18, 25, 35, 60, 100]"
   ]
  },
  {
   "cell_type": "code",
   "execution_count": null,
   "id": "a1faea7f-fc0c-48d3-bd51-2fb77876348b",
   "metadata": {},
   "outputs": [],
   "source": []
  }
 ],
 "metadata": {
  "kernelspec": {
   "display_name": "Python 3 (ipykernel)",
   "language": "python",
   "name": "python3"
  },
  "language_info": {
   "codemirror_mode": {
    "name": "ipython",
    "version": 3
   },
   "file_extension": ".py",
   "mimetype": "text/x-python",
   "name": "python",
   "nbconvert_exporter": "python",
   "pygments_lexer": "ipython3",
   "version": "3.10.1"
  }
 },
 "nbformat": 4,
 "nbformat_minor": 5
}
