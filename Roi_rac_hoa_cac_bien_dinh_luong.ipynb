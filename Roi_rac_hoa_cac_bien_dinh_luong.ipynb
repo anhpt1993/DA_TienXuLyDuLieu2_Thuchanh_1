{
 "cells": [
  {
   "cell_type": "markdown",
   "id": "a7ce487c-d316-4eec-ad13-3522974f6cdc",
   "metadata": {},
   "source": [
    "# 0. Khai báo các thư viện cần thiết"
   ]
  },
  {
   "cell_type": "code",
   "execution_count": 1,
   "id": "dede8e48-1005-4836-89ef-c05a1b980d40",
   "metadata": {},
   "outputs": [],
   "source": [
    "import pandas as pd\n",
    "import numpy as np"
   ]
  },
  {
   "cell_type": "markdown",
   "id": "3f1cf6f3-1246-47c2-a65a-aeb711337266",
   "metadata": {},
   "source": [
    "# 1. Dữ liệu tuổi của một nhóm người dùng"
   ]
  },
  {
   "cell_type": "code",
   "execution_count": 2,
   "id": "326ff193-4a55-4af2-8ad1-51f8de41d786",
   "metadata": {},
   "outputs": [],
   "source": [
    "ages = [20, 22, 25, 27, 21, 23, 37, 31, 61, 45, 41, 32]"
   ]
  },
  {
   "cell_type": "code",
   "execution_count": 3,
   "id": "8eb3360a-5df7-42e1-944d-4d700a0c67f8",
   "metadata": {},
   "outputs": [],
   "source": [
    "# Định nghĩa khoảng giá trị các nhóm\n",
    "bins = [18, 25, 35, 60, 100]"
   ]
  },
  {
   "cell_type": "markdown",
   "id": "3cd51f1e-4c60-4179-998f-bbaabc0e3373",
   "metadata": {},
   "source": [
    "- Thực hiện rời rạc hoá bằng hàm pd.cut()"
   ]
  },
  {
   "cell_type": "code",
   "execution_count": 4,
   "id": "a1faea7f-fc0c-48d3-bd51-2fb77876348b",
   "metadata": {},
   "outputs": [],
   "source": [
    "# Thực hiện rời rạc hoá\n",
    "cats = pd.cut(ages, bins)"
   ]
  },
  {
   "cell_type": "code",
   "execution_count": 5,
   "id": "33251464-c686-468d-8b5f-d7c06b1e72fa",
   "metadata": {},
   "outputs": [
    {
     "data": {
      "text/plain": [
       "[(18, 25], (18, 25], (18, 25], (25, 35], (18, 25], ..., (25, 35], (60, 100], (35, 60], (35, 60], (25, 35]]\n",
       "Length: 12\n",
       "Categories (4, interval[int64, right]): [(18, 25] < (25, 35] < (35, 60] < (60, 100]]"
      ]
     },
     "execution_count": 5,
     "metadata": {},
     "output_type": "execute_result"
    }
   ],
   "source": [
    "cats"
   ]
  },
  {
   "cell_type": "code",
   "execution_count": 6,
   "id": "be3d66b4-b239-4f89-9d8d-fa4edd39c5a5",
   "metadata": {},
   "outputs": [
    {
     "data": {
      "text/plain": [
       "array([0, 0, 0, 1, 0, 0, 2, 1, 3, 2, 2, 1], dtype=int8)"
      ]
     },
     "execution_count": 6,
     "metadata": {},
     "output_type": "execute_result"
    }
   ],
   "source": [
    "# Lấy ra index của nhóm tương ứng với các phần tử\n",
    "cats.codes"
   ]
  },
  {
   "cell_type": "code",
   "execution_count": 7,
   "id": "9fc52007-0c68-4853-97d1-66c2f122315b",
   "metadata": {},
   "outputs": [
    {
     "data": {
      "text/plain": [
       "IntervalIndex([(18, 25], (25, 35], (35, 60], (60, 100]], dtype='interval[int64, right]')"
      ]
     },
     "execution_count": 7,
     "metadata": {},
     "output_type": "execute_result"
    }
   ],
   "source": [
    "# Lấy ra các nhóm\n",
    "cats.categories"
   ]
  },
  {
   "cell_type": "code",
   "execution_count": 8,
   "id": "f1be0472-b3bb-4846-b652-d6fc19bf9d0f",
   "metadata": {},
   "outputs": [
    {
     "data": {
      "text/plain": [
       "(18, 25]     5\n",
       "(25, 35]     3\n",
       "(35, 60]     3\n",
       "(60, 100]    1\n",
       "dtype: int64"
      ]
     },
     "execution_count": 8,
     "metadata": {},
     "output_type": "execute_result"
    }
   ],
   "source": [
    "# Thống kê số lượng phần tử ở mỗi nhóm\n",
    "pd.value_counts(cats)"
   ]
  },
  {
   "cell_type": "code",
   "execution_count": 9,
   "id": "526f62b6-4972-47bd-a125-fa7f72023bb3",
   "metadata": {},
   "outputs": [
    {
     "data": {
      "text/plain": [
       "['Youth', 'Youth', 'Youth', 'YoungAdult', 'Youth', ..., 'YoungAdult', 'Senior', 'MiddleAged', 'MiddleAged', 'YoungAdult']\n",
       "Length: 12\n",
       "Categories (4, object): ['Youth' < 'YoungAdult' < 'MiddleAged' < 'Senior']"
      ]
     },
     "execution_count": 9,
     "metadata": {},
     "output_type": "execute_result"
    }
   ],
   "source": [
    "# danh sách nhãn\n",
    "group_names = [\"Youth\", \"YoungAdult\", \"MiddleAged\", \"Senior\"]\n",
    "\n",
    "pd.cut(ages, bins, labels = group_names)"
   ]
  },
  {
   "cell_type": "markdown",
   "id": "c878d3f1-43ce-449c-a66c-53bf5b017560",
   "metadata": {},
   "source": [
    "Nếu truyền một số nguyên nhóm để thực hiện hàm cut thay vì các khoảng giá trị rõ ràng, nó sẽ tính toán các nhóm có chiều dài bằng nhau dựa trên các giá trị tối thiểu và lớn nhất trong dữ liệu."
   ]
  },
  {
   "cell_type": "code",
   "execution_count": 10,
   "id": "77d9b75f-44db-4699-ba2b-b67d86409592",
   "metadata": {},
   "outputs": [],
   "source": [
    "# Sinh dữ liệu ngẫu nhiên gồm 20 phần tử\n",
    "data = np.random.rand(20)"
   ]
  },
  {
   "cell_type": "code",
   "execution_count": 11,
   "id": "d7bbaed9-3d89-47a9-9cc8-a04f51935161",
   "metadata": {},
   "outputs": [
    {
     "data": {
      "text/plain": [
       "[(0.25, 0.47], (0.25, 0.47], (0.47, 0.7], (0.023, 0.25], (0.023, 0.25], ..., (0.25, 0.47], (0.7, 0.92], (0.7, 0.92], (0.7, 0.92], (0.25, 0.47]]\n",
       "Length: 20\n",
       "Categories (4, interval[float64, right]): [(0.023, 0.25] < (0.25, 0.47] < (0.47, 0.7] < (0.7, 0.92]]"
      ]
     },
     "execution_count": 11,
     "metadata": {},
     "output_type": "execute_result"
    }
   ],
   "source": [
    "cut_data = pd.cut(data, 4, precision = 2)\n",
    "cut_data"
   ]
  },
  {
   "cell_type": "code",
   "execution_count": 12,
   "id": "16e23935-ceae-4771-bf7e-d54686c6a51b",
   "metadata": {},
   "outputs": [
    {
     "data": {
      "text/plain": [
       "(0.25, 0.47]     7\n",
       "(0.7, 0.92]      6\n",
       "(0.023, 0.25]    5\n",
       "(0.47, 0.7]      2\n",
       "dtype: int64"
      ]
     },
     "execution_count": 12,
     "metadata": {},
     "output_type": "execute_result"
    }
   ],
   "source": [
    "pd.value_counts(cut_data)"
   ]
  },
  {
   "cell_type": "markdown",
   "id": "6457d5a7-68d3-4690-83e9-0d87ead9f9fb",
   "metadata": {},
   "source": [
    "- Rời rạc hoá bằng hàm pd.qcut()"
   ]
  },
  {
   "cell_type": "code",
   "execution_count": 13,
   "id": "27a297d3-0dcb-495c-83d3-9410e606ce6d",
   "metadata": {},
   "outputs": [],
   "source": [
    "# Sinh dữ liệu ngẫu nhiên 1000 điểm dữ liệu\n",
    "data = np.random.randn(1000)"
   ]
  },
  {
   "cell_type": "code",
   "execution_count": 14,
   "id": "ac48c822-3231-4cd0-8d66-59f932c66ddc",
   "metadata": {
    "jp-MarkdownHeadingCollapsed": true,
    "tags": []
   },
   "outputs": [],
   "source": [
    "# Thực hiện hàm qcut trên dữ liệu vừa sinh ra\n",
    "cats = pd.qcut(data, 4)"
   ]
  },
  {
   "cell_type": "code",
   "execution_count": 16,
   "id": "431ca9a6-7c29-4040-934c-0a1b1705672a",
   "metadata": {},
   "outputs": [
    {
     "data": {
      "text/plain": [
       "[(-0.758, -0.00535], (-0.00535, 0.646], (0.646, 3.09], (-0.758, -0.00535], (-0.00535, 0.646], ..., (-0.00535, 0.646], (-0.00535, 0.646], (-3.75, -0.758], (-0.00535, 0.646], (0.646, 3.09]]\n",
       "Length: 1000\n",
       "Categories (4, interval[float64, right]): [(-3.75, -0.758] < (-0.758, -0.00535] < (-0.00535, 0.646] < (0.646, 3.09]]"
      ]
     },
     "execution_count": 16,
     "metadata": {},
     "output_type": "execute_result"
    }
   ],
   "source": [
    "cats"
   ]
  },
  {
   "cell_type": "code",
   "execution_count": 17,
   "id": "4226bda9-cfe1-4798-bdd9-a6ee4ba139d8",
   "metadata": {},
   "outputs": [
    {
     "data": {
      "text/plain": [
       "(-3.75, -0.758]       250\n",
       "(-0.758, -0.00535]    250\n",
       "(-0.00535, 0.646]     250\n",
       "(0.646, 3.09]         250\n",
       "dtype: int64"
      ]
     },
     "execution_count": 17,
     "metadata": {},
     "output_type": "execute_result"
    }
   ],
   "source": [
    "# Thống kê số lượng phần tử\n",
    "pd.value_counts(cats)"
   ]
  }
 ],
 "metadata": {
  "kernelspec": {
   "display_name": "Python 3 (ipykernel)",
   "language": "python",
   "name": "python3"
  },
  "language_info": {
   "codemirror_mode": {
    "name": "ipython",
    "version": 3
   },
   "file_extension": ".py",
   "mimetype": "text/x-python",
   "name": "python",
   "nbconvert_exporter": "python",
   "pygments_lexer": "ipython3",
   "version": "3.10.1"
  }
 },
 "nbformat": 4,
 "nbformat_minor": 5
}
